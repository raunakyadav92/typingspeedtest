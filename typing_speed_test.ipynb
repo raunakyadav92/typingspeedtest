{
  "nbformat": 4,
  "nbformat_minor": 0,
  "metadata": {
    "colab": {
      "provenance": [],
      "authorship_tag": "ABX9TyPnpbC2EAc/zNp+mXfLg4ei",
      "include_colab_link": true
    },
    "kernelspec": {
      "name": "python3",
      "display_name": "Python 3"
    },
    "language_info": {
      "name": "python"
    }
  },
  "cells": [
    {
      "cell_type": "markdown",
      "metadata": {
        "id": "view-in-github",
        "colab_type": "text"
      },
      "source": [
        "<a href=\"https://colab.research.google.com/github/raunakyadav92/typingspeedtest/blob/main/typing_speed_test.ipynb\" target=\"_parent\"><img src=\"https://colab.research.google.com/assets/colab-badge.svg\" alt=\"Open In Colab\"/></a>"
      ]
    },
    {
      "cell_type": "code",
      "execution_count": 1,
      "metadata": {
        "colab": {
          "base_uri": "https://localhost:8080/"
        },
        "id": "dzL65H2MLSMV",
        "outputId": "9689005e-96ab-4a67-970d-c566ba8ebdfa"
      },
      "outputs": [
        {
          "output_type": "stream",
          "name": "stdout",
          "text": [
            "⌨️  Welcome to the Typing Speed Test! ⌨️\n",
            "Press Enter when you're ready...\n",
            "\n",
            "Type this sentence exactly as shown:\n",
            "\n",
            "👉 Practice makes a person perfect\n",
            "\n",
            "Press Enter to start typing...\n",
            "\n",
            "Start Typing Here: hi ,mmy ldvfnvkvodjvojg \n",
            "\n",
            "🕒 Time Taken: 8.61 seconds\n",
            "📄 Your Typing Speed: 20.90 words per minute\n",
            "❌ Oops! You made some mistakes.\n"
          ]
        }
      ],
      "source": [
        "import time\n",
        "import random\n",
        "\n",
        "sentences = [\n",
        "    \"The quick brown fox jumps over the lazy dog\",\n",
        "    \"Practice makes a person perfect\",\n",
        "    \"Python is a popular programming language\",\n",
        "    \"Typing speed can be improved with practice\",\n",
        "    \"Hard work is the key to success\"\n",
        "]\n",
        "\n",
        "def typing_test():\n",
        "    print(\"⌨️  Welcome to the Typing Speed Test! ⌨️\")\n",
        "    input(\"Press Enter when you're ready...\")\n",
        "\n",
        "    test_sentence = random.choice(sentences)\n",
        "    print(\"\\nType this sentence exactly as shown:\\n\")\n",
        "    print(f\"👉 {test_sentence}\\n\")\n",
        "\n",
        "    input(\"Press Enter to start typing...\")\n",
        "\n",
        "    start_time = time.time()\n",
        "    typed_text = input(\"\\nStart Typing Here: \")\n",
        "    end_time = time.time()\n",
        "\n",
        "    time_taken = end_time - start_time\n",
        "    time_in_minutes = time_taken / 60\n",
        "    words = len(typed_text.split())\n",
        "    wpm = words / time_in_minutes if time_in_minutes > 0 else 0\n",
        "\n",
        "    print(\"\\n🕒 Time Taken: {:.2f} seconds\".format(time_taken))\n",
        "    print(\"📄 Your Typing Speed: {:.2f} words per minute\".format(wpm))\n",
        "\n",
        "    if typed_text.strip() == test_sentence:\n",
        "        print(\"✅ Great! You typed correctly.\")\n",
        "    else:\n",
        "        print(\"❌ Oops! You made some mistakes.\")\n",
        "\n",
        "if __name__ == \"__main__\":\n",
        "    typing_test()\n"
      ]
    }
  ]
}